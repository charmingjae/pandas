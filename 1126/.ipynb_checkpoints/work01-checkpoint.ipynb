{
 "cells": [
  {
   "cell_type": "code",
   "execution_count": null,
   "metadata": {},
   "outputs": [],
   "source": [
    "#_*_coding:utf-8 _*_\n",
    "import pandas as pd\n",
    "from scipy import stats, polyval\n",
    "import matplotlib.pyplot as plt\n",
    "\n",
    "df = pd.read_excel('./temp/powerSample.xlsx')\n",
    "x = df[\"Product\"]\n",
    "y = df[\"usePower\"]\n",
    "\n",
    "slope, intercept, r_value, p_value, stderr = stats.linregress(x, y)\n",
    "\n",
    "predict = 4*slope + intercept\n",
    "\n",
    "print('r_value : ' ,  r_value)\n",
    "print('p_value : ' ,  p_value)\n",
    "print('predict usePower : ',  predict)\n",
    "\n",
    "ry = polyval([slope, intercept],x)\n",
    "plt.plot(x,y,'k.')\n",
    "plt.plot(x,ry,'r.-')\n",
    "plt.title('Regression Result')\n",
    "plt.legend(['original','regression'])\n",
    "plt.show()\n"
   ]
  }
 ],
 "metadata": {
  "kernelspec": {
   "display_name": "Python 3",
   "language": "python",
   "name": "python3"
  },
  "language_info": {
   "codemirror_mode": {
    "name": "ipython",
    "version": 3
   },
   "file_extension": ".py",
   "mimetype": "text/x-python",
   "name": "python",
   "nbconvert_exporter": "python",
   "pygments_lexer": "ipython3",
   "version": "3.8.3"
  }
 },
 "nbformat": 4,
 "nbformat_minor": 4
}
