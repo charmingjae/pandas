{
 "cells": [
  {
   "cell_type": "code",
   "execution_count": 2,
   "metadata": {},
   "outputs": [],
   "source": [
    "import pandas as pd\n",
    "import urllib\n",
    "import json\n",
    "import requests\n",
    "import math\n",
    "import urllib.request as urls"
   ]
  },
  {
   "cell_type": "code",
   "execution_count": 10,
   "metadata": {},
   "outputs": [],
   "source": [
    "def getGPS(CiyNames):\n",
    "    appKey = \"앱키\"\n",
    "    addr = urllib.parse.quote(CiyNames)\n",
    "    url = 'https://dapi.kakao.com/v2/local/search/address.json?query=' + addr+'&page=1&size=10'\n",
    "    headers = {\"Authorization\": \"KakaoAK \"+appKey}\n",
    "    result = json.loads(str(requests.get(url, headers=headers).text))\n",
    "    lon = result['documents'][0]['x']\n",
    "    lat = result['documents'][0]['y']\n",
    "    return (lat,lon)"
   ]
  },
  {
   "cell_type": "code",
   "execution_count": 11,
   "metadata": {},
   "outputs": [],
   "source": [
    "def grid(v1, v2) :\n",
    "    RE = 6371.00877 # 지구 반경(km)\n",
    "    GRID = 5.0 # 격자 간격(km)\n",
    "    SLAT1 = 30.0# 투영 위도1(degree)\n",
    "    SLAT2 = 60.0# 투영 위도2(degree)\n",
    "    OLON = 126.0# 기준점 경도(degree)\n",
    "    OLAT = 38.0# 기준점 위도(degree)\n",
    "    XO = 43# 기준점 X좌표(GRID)\n",
    "    YO = 136# 기1준점 Y좌표(GRID)\n",
    "\n",
    "    DEGRAD = math.pi / 180.0\n",
    "    RADDEG = 180.0 / math.pi\n",
    "    re = RE / GRID;\n",
    "    slat1 = SLAT1 * DEGRAD\n",
    "    slat2 = SLAT2 * DEGRAD\n",
    "    olon = OLON * DEGRAD\n",
    "    olat = OLAT * DEGRAD\n",
    "\n",
    "    sn = math.tan(math.pi * 0.25 + slat2 * 0.5) / math.tan(math.pi * 0.25 + slat1 * 0.5)\n",
    "    sn = math.log(math.cos(slat1) / math.cos(slat2)) / math.log(sn)\n",
    "    sf = math.tan(math.pi * 0.25 + slat1 * 0.5)\n",
    "    sf = math.pow(sf, sn) * math.cos(slat1) / sn\n",
    "    ro = math.tan(math.pi * 0.25 + olat * 0.5)\n",
    "    ro = re * sf / math.pow(ro, sn);\n",
    "    rs = {};\n",
    "    ra = math.tan(math.pi * 0.25 + float(v1) * DEGRAD * 0.5)\n",
    "    ra = re * sf / math.pow(ra, sn)\n",
    "\n",
    "    theta = float(v2) * DEGRAD - olon\n",
    "    if theta > math.pi :\n",
    "        theta -= 2.0 * math.pi\n",
    "    if theta < -math.pi :\n",
    "        theta += 2.0 * math.pi\n",
    "    theta *= sn\n",
    "    rs['x'] = math.floor(ra * math.sin(theta) + XO + 0.5)\n",
    "    rs['y'] = math.floor(ro - ra * math.cos(theta) + YO + 0.5)\n",
    "    return (str(rs[\"x\"]).split('.')[0],str(rs[\"y\"]).split('.')[0])\n"
   ]
  },
  {
   "cell_type": "code",
   "execution_count": 13,
   "metadata": {},
   "outputs": [
    {
     "ename": "SyntaxError",
     "evalue": "invalid character in identifier (<ipython-input-13-390b8a0a1bc5>, line 2)",
     "output_type": "error",
     "traceback": [
      "\u001b[0;36m  File \u001b[0;32m\"<ipython-input-13-390b8a0a1bc5>\"\u001b[0;36m, line \u001b[0;32m2\u001b[0m\n\u001b[0;31m    serviceKey=\"omv%2BRRXBoy9xqFarM0PT1gwhgvNQAJMUB5lTTWu4Zp2Fwumm53j6q7IOSEFeq3JOb5l5%2BRCRmRF%2Bz3uYmpleNg%3D%3D\"\u001b[0m\n\u001b[0m    ^\u001b[0m\n\u001b[0;31mSyntaxError\u001b[0m\u001b[0;31m:\u001b[0m invalid character in identifier\n"
     ]
    }
   ],
   "source": [
    "def getWeater(nx, ny):\n",
    "    serviceKey=\"시리얼키\"\n",
    "    endpoint =\"http://apis.data.go.kr/1360000/VilageFcstInfoService/getVilageFcst?ServiceKey=\"+serviceKey\n",
    "    basedate=\"20201104\"\n",
    "    basetime=\"0500\" # basetimeList =['0200','0500','0800','1100','1400','1700','2000','2300']\n",
    "    urlstr = \"&pageNo=1&numOfRows=10&dataType=json&base_date=\"+basedate+\"&base_time=\"+basetime+\"&nx=\"+nx+\"&ny=\"+ny\n",
    "    endpoint += urlstr\n",
    "    request = urls.Request(endpoint)\n",
    "    request.get_method = lambda: 'GET'\n",
    "    response_body = urls.urlopen(request).read()\n",
    "    json_data = json.loads(response_body)\n",
    "    weatherDict=dict()\n",
    "    degree = json_data['response']['body']['items']['item']\n",
    "    for i in range(len(degree)):\n",
    "        weatherDict['cityname'] = cityname\n",
    "        if degree[i]['category'] == 'T3H':\n",
    "            weatherDict['degree'] = degree[i]['fcstValue’]\n",
    "   return weatherDict\n"
   ]
  },
  {
   "cell_type": "code",
   "execution_count": 7,
   "metadata": {},
   "outputs": [
    {
     "name": "stdout",
     "output_type": "stream",
     "text": [
      "강원도 강릉시\n"
     ]
    },
    {
     "ename": "AttributeError",
     "evalue": "'str' object has no attribute 'nxTuple'",
     "output_type": "error",
     "traceback": [
      "\u001b[0;31m---------------------------------------------------------------------------\u001b[0m",
      "\u001b[0;31mAttributeError\u001b[0m                            Traceback (most recent call last)",
      "\u001b[0;32m<ipython-input-7-0bd5eff2e7dd>\u001b[0m in \u001b[0;36m<module>\u001b[0;34m\u001b[0m\n\u001b[1;32m      8\u001b[0m     \u001b[0mnxTuple\u001b[0m \u001b[0;34m=\u001b[0m \u001b[0mgrid\u001b[0m\u001b[0;34m(\u001b[0m\u001b[0mposTuple\u001b[0m\u001b[0;34m[\u001b[0m\u001b[0;36m0\u001b[0m\u001b[0;34m]\u001b[0m\u001b[0;34m,\u001b[0m \u001b[0mposTuple\u001b[0m\u001b[0;34m[\u001b[0m\u001b[0;36m1\u001b[0m\u001b[0;34m]\u001b[0m\u001b[0;34m)\u001b[0m\u001b[0;34m\u001b[0m\u001b[0;34m\u001b[0m\u001b[0m\n\u001b[1;32m      9\u001b[0m     \u001b[0mprint\u001b[0m\u001b[0;34m(\u001b[0m\u001b[0maddr\u001b[0m\u001b[0;34m)\u001b[0m\u001b[0;34m\u001b[0m\u001b[0;34m\u001b[0m\u001b[0m\n\u001b[0;32m---> 10\u001b[0;31m     \u001b[0mweather_List\u001b[0m\u001b[0;34m.\u001b[0m\u001b[0mappend\u001b[0m\u001b[0;34m(\u001b[0m\u001b[0mgetWeater\u001b[0m\u001b[0;34m(\u001b[0m\u001b[0maddr\u001b[0m\u001b[0;34m.\u001b[0m\u001b[0mnxTuple\u001b[0m\u001b[0;34m[\u001b[0m\u001b[0;36m0\u001b[0m\u001b[0;34m]\u001b[0m\u001b[0;34m,\u001b[0m\u001b[0mnxTuple\u001b[0m\u001b[0;34m[\u001b[0m\u001b[0;36m1\u001b[0m\u001b[0;34m]\u001b[0m\u001b[0;34m)\u001b[0m\u001b[0;34m[\u001b[0m\u001b[0;34m'degree'\u001b[0m\u001b[0;34m]\u001b[0m\u001b[0;34m)\u001b[0m\u001b[0;34m\u001b[0m\u001b[0;34m\u001b[0m\u001b[0m\n\u001b[0m\u001b[1;32m     11\u001b[0m \u001b[0mdk_humidity\u001b[0m \u001b[0;34m=\u001b[0m \u001b[0mpd\u001b[0m\u001b[0;34m.\u001b[0m\u001b[0mDataFrame\u001b[0m\u001b[0;34m(\u001b[0m\u001b[0;34m{\u001b[0m\u001b[0;34m'기온'\u001b[0m\u001b[0;34m:\u001b[0m\u001b[0mweather_List\u001b[0m\u001b[0;34m}\u001b[0m\u001b[0;34m)\u001b[0m\u001b[0;34m\u001b[0m\u001b[0;34m\u001b[0m\u001b[0m\n\u001b[1;32m     12\u001b[0m \u001b[0mdata_korea\u001b[0m \u001b[0;34m=\u001b[0m \u001b[0mdata_korea\u001b[0m\u001b[0;34m.\u001b[0m\u001b[0mjoin\u001b[0m\u001b[0;34m(\u001b[0m\u001b[0mdk_humidity\u001b[0m\u001b[0;34m)\u001b[0m\u001b[0;34m\u001b[0m\u001b[0;34m\u001b[0m\u001b[0m\n",
      "\u001b[0;31mAttributeError\u001b[0m: 'str' object has no attribute 'nxTuple'"
     ]
    }
   ],
   "source": [
    "data_korea = pd.read_csv('./temp/data_draw_korea.csv', index_col=0, encoding='utf-8')\n",
    "data_korea[u'주소'] = data_korea[u'광역시도'] +' '+ data_korea[u'행정구역']\n",
    "posTupleList = list()\n",
    "weather_List = list()\n",
    "\n",
    "for addr in data_korea[u'주소']:\n",
    "    posTuple = getGPS(addr)\n",
    "    nxTuple = grid(posTuple[0], posTuple[1])\n",
    "    print(addr)\n",
    "    weather_List.append(getWeater(addr.nxTuple[0],nxTuple[1])['degree'])\n",
    "dk_humidity = pd.DataFrame({'기온':weather_List})\n",
    "data_korea = data_korea.join(dk_humidity)\n",
    "data_korea.to_csv('./temp/data_weater_korea.csv')"
   ]
  },
  {
   "cell_type": "code",
   "execution_count": 13,
   "metadata": {},
   "outputs": [
    {
     "name": "stdout",
     "output_type": "stream",
     "text": [
      "0       강원도 강릉시\n",
      "1       강원도 고성군\n",
      "2       강원도 동해시\n",
      "3       강원도 삼척시\n",
      "4       강원도 속초시\n",
      "         ...   \n",
      "224    충청북도 제천시\n",
      "225    충청북도 증평군\n",
      "226    충청북도 진천군\n",
      "227    충청북도 청주시\n",
      "228    충청북도 충주시\n",
      "Name: 주소, Length: 229, dtype: object\n"
     ]
    }
   ],
   "source": [
    "print(data_korea[u'주소'])"
   ]
  }
 ],
 "metadata": {
  "kernelspec": {
   "display_name": "Python 3",
   "language": "python",
   "name": "python3"
  },
  "language_info": {
   "codemirror_mode": {
    "name": "ipython",
    "version": 3
   },
   "file_extension": ".py",
   "mimetype": "text/x-python",
   "name": "python",
   "nbconvert_exporter": "python",
   "pygments_lexer": "ipython3",
   "version": "3.8.3"
  }
 },
 "nbformat": 4,
 "nbformat_minor": 4
}
