{
 "cells": [
  {
   "cell_type": "code",
   "execution_count": 4,
   "metadata": {},
   "outputs": [
    {
     "name": "stdout",
     "output_type": "stream",
     "text": [
      "Title :  The Very Hungry Caterpillar Pop-Up Book\n",
      "Authors :  ['Eric Carle', 'Keith Finch']\n",
      "Publisher :   Philomel Books\n",
      "ISBN :  0399250395\n",
      "\n",
      "Title :  The Shack\n",
      "Authors :  ['Unknown']\n",
      "Publisher :  NONE\n",
      "ISBN :  0964729237\n",
      "\n",
      "Title :  You Can Negotiate Anything\n",
      "Authors :  ['Herb Cohen']\n",
      "Publisher :  NONE\n",
      "ISBN :  0553281097\n",
      "\n"
     ]
    },
    {
     "name": "stderr",
     "output_type": "stream",
     "text": [
      "<ipython-input-4-d98a640d7ce1>:5: DeprecationWarning: This method will be removed in future versions.  Use 'tree.iter()' or 'list(tree.iter())' instead.\n",
      "  for item in note.getiterator(\"book\"):\n"
     ]
    }
   ],
   "source": [
    "from xml.etree.ElementTree import *\n",
    "tree = parse('./temp/Resource10/book.xml')\n",
    "note = tree.getroot()\n",
    "booklist = list()\n",
    "for item in note.getiterator(\"book\"):\n",
    "    strTitle = item.find(\"title\").text\n",
    "    strPub = item.find(\"publisher\")\n",
    "    if(strPub == None):\n",
    "        strPub='NONE'\n",
    "    else:\n",
    "        strPub = strPub.text\n",
    "    strAuthor = item.findall(\"author\")\n",
    "    authorList=list()\n",
    "    if(len(strAuthor)<1):\n",
    "        authorList.append('Unknown')\n",
    "    for a in strAuthor:\n",
    "        authorList.append(a.attrib[\"name\"])\n",
    "    bookdict = {'title':strTitle ,'author':authorList, 'publisher':strPub, 'ISBN':item.attrib[\"ISBN\"]}\n",
    "    booklist.append(bookdict)\n",
    "\n",
    "for books in booklist:\n",
    "    print(\"Title : \", books[\"title\"])\n",
    "    print(\"Authors : \", books[\"author\"])\n",
    "    print(\"Publisher : \", books[\"publisher\"])\n",
    "    print(\"ISBN : \", books[\"ISBN\"])\n",
    "    print()"
   ]
  },
  {
   "cell_type": "code",
   "execution_count": null,
   "metadata": {},
   "outputs": [],
   "source": []
  }
 ],
 "metadata": {
  "kernelspec": {
   "display_name": "Python 3",
   "language": "python",
   "name": "python3"
  },
  "language_info": {
   "codemirror_mode": {
    "name": "ipython",
    "version": 3
   },
   "file_extension": ".py",
   "mimetype": "text/x-python",
   "name": "python",
   "nbconvert_exporter": "python",
   "pygments_lexer": "ipython3",
   "version": "3.8.3"
  }
 },
 "nbformat": 4,
 "nbformat_minor": 4
}
