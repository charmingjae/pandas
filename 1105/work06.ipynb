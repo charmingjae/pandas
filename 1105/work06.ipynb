{
 "cells": [
  {
   "cell_type": "code",
   "execution_count": 1,
   "metadata": {},
   "outputs": [],
   "source": [
    "import pymysql\n",
    "import folium"
   ]
  },
  {
   "cell_type": "code",
   "execution_count": 3,
   "metadata": {},
   "outputs": [
    {
     "name": "stdout",
     "output_type": "stream",
     "text": [
      "Complete!\n"
     ]
    }
   ],
   "source": [
    "try :\n",
    "    conn = pymysql.connect(host='localhost', user='root', password='패스워드', db='bigdata', charset='utf8')\n",
    "    curs = conn.cursor()\n",
    "    sql = u\"SELECT * FROM camp WHERE c_addr like \\'%경기도%\\' limit 0, 10\"\n",
    "    # 쿼리 수행\n",
    "    curs.execute(sql)\n",
    "    # 쿼리 데이터 가져오기\n",
    "    result = curs.fetchall()\n",
    "    conn.close()\n",
    "    mapDF = list()\n",
    "    for row in result:\n",
    "        rowData = {'campName':row[1], 'campLAT':row[2], 'campLNG' : row[3], 'campeAddress': row[4]}\n",
    "        mapDF.append(rowData)\n",
    "    # 포리움 객체 생성\n",
    "    map_osm = folium.Map(location=[37.275273,127.009413], zoom_start=10)\n",
    "    for markers in mapDF:\n",
    "        folium.Marker([markers['campLAT'], markers['campLNG']], popup = markers['campName'], icon=folium.Icon(color='red',icon='info-sign')).add_to(map_osm)\n",
    "        map_osm.save('./temp/campMap.html')\n",
    "except Exception as er:\n",
    "    print(er)\n",
    "else:\n",
    "    print('Complete!')"
   ]
  },
  {
   "cell_type": "code",
   "execution_count": null,
   "metadata": {},
   "outputs": [],
   "source": []
  }
 ],
 "metadata": {
  "kernelspec": {
   "display_name": "Python 3",
   "language": "python",
   "name": "python3"
  },
  "language_info": {
   "codemirror_mode": {
    "name": "ipython",
    "version": 3
   },
   "file_extension": ".py",
   "mimetype": "text/x-python",
   "name": "python",
   "nbconvert_exporter": "python",
   "pygments_lexer": "ipython3",
   "version": "3.8.3"
  }
 },
 "nbformat": 4,
 "nbformat_minor": 4
}
