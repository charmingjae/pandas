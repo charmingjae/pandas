{
 "cells": [
  {
   "cell_type": "code",
   "execution_count": 1,
   "metadata": {},
   "outputs": [],
   "source": [
    "import pandas as pd"
   ]
  },
  {
   "cell_type": "code",
   "execution_count": 2,
   "metadata": {},
   "outputs": [],
   "source": [
    "df = pd.read_excel('./temp/sea_rain.xlsx', sheet_name='Sheet1')\n",
    "excel_writer = pd.ExcelWriter('./temp/sea_rain1.xlsx', engine='xlsx')\n",
    "df.to_excel(excel_writer, index=False, sheet_name='Sheet1')\n",
    "workbook = excel_writer.book\n",
    "worksheet = excel_writer.sheet\n",
    "\n",
    "chart = workbook.add_chart({'type':'line'})\n",
    "chart.add_series({'value':'', 'categories':'', 'name':''})\n",
    "chart.add_series({'value':'', 'categories':'', 'name':''})\n",
    "chart.add_series({'value':'', 'categories':'', 'name':''})\n",
    "workbook.insert_chart('location', chart)\n",
    "workbook.save()"
   ]
  },
  {
   "cell_type": "code",
   "execution_count": null,
   "metadata": {},
   "outputs": [],
   "source": []
  }
 ],
 "metadata": {
  "kernelspec": {
   "display_name": "Python 3",
   "language": "python",
   "name": "python3"
  },
  "language_info": {
   "codemirror_mode": {
    "name": "ipython",
    "version": 3
   },
   "file_extension": ".py",
   "mimetype": "text/x-python",
   "name": "python",
   "nbconvert_exporter": "python",
   "pygments_lexer": "ipython3",
   "version": "3.8.3"
  }
 },
 "nbformat": 4,
 "nbformat_minor": 4
}
