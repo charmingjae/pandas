{
 "cells": [
  {
   "cell_type": "markdown",
   "metadata": {},
   "source": [
    "# 데이터 처리 및 시각화"
   ]
  },
  {
   "cell_type": "code",
   "execution_count": 1,
   "metadata": {},
   "outputs": [],
   "source": [
    "import pandas as pd\n",
    "import numpy as np\n",
    "from matplotlib import font_manager\n",
    "import matplotlib\n",
    "import matplotlib.pyplot as plt"
   ]
  },
  {
   "cell_type": "code",
   "execution_count": 2,
   "metadata": {},
   "outputs": [],
   "source": [
    "font_loc = '/Library/fonts/Arial unicode.ttf'\n",
    "font_name = font_manager.FontProperties(fname=font_loc).get_name()\n",
    "matplotlib.rc('font',family=font_name)\n",
    "matplotlib.rcParams['axes.unicode_minus']=False"
   ]
  },
  {
   "cell_type": "code",
   "execution_count": 3,
   "metadata": {},
   "outputs": [],
   "source": [
    "df = pd.read_excel('./temp/2012MonthlyTypeAccident.xlsx')\n",
    "typeList = [u'차대사람',u'차대차',u'차량단독',u'철길건널목']\n",
    "columnList = [u'차대사람사망자수',u'차대차사망자수',u'차량단독사망자수',u'철길건널목사망자수']"
   ]
  },
  {
   "cell_type": "code",
   "execution_count": 4,
   "metadata": {},
   "outputs": [],
   "source": [
    "results = pd.DataFrame()\n",
    "results['test'] = ' '  \n",
    "for f in range(len(typeList)):\n",
    "    data=df[(df[u'사고유형_대분류']==typeList[f]) & (df[u'월']==u'사망자수')].iloc[:,4:].sum()\n",
    "    data.name=columnList[f]\n",
    "    data.to_frame()\n",
    "    results=results.merge(data, how='outer',left_index=True, right_index=True)\n",
    "results['test'] = ' '"
   ]
  },
  {
   "cell_type": "code",
   "execution_count": 5,
   "metadata": {},
   "outputs": [
    {
     "data": {
      "text/html": [
       "<div>\n",
       "<style scoped>\n",
       "    .dataframe tbody tr th:only-of-type {\n",
       "        vertical-align: middle;\n",
       "    }\n",
       "\n",
       "    .dataframe tbody tr th {\n",
       "        vertical-align: top;\n",
       "    }\n",
       "\n",
       "    .dataframe thead th {\n",
       "        text-align: right;\n",
       "    }\n",
       "</style>\n",
       "<table border=\"1\" class=\"dataframe\">\n",
       "  <thead>\n",
       "    <tr style=\"text-align: right;\">\n",
       "      <th></th>\n",
       "      <th>test</th>\n",
       "      <th>차대사람사망자수</th>\n",
       "      <th>차대차사망자수</th>\n",
       "      <th>차량단독사망자수</th>\n",
       "      <th>철길건널목사망자수</th>\n",
       "    </tr>\n",
       "  </thead>\n",
       "  <tbody>\n",
       "    <tr>\n",
       "      <th>1월</th>\n",
       "      <td></td>\n",
       "      <td>176</td>\n",
       "      <td>140</td>\n",
       "      <td>101</td>\n",
       "      <td>1</td>\n",
       "    </tr>\n",
       "    <tr>\n",
       "      <th>2월</th>\n",
       "      <td></td>\n",
       "      <td>153</td>\n",
       "      <td>146</td>\n",
       "      <td>94</td>\n",
       "      <td>0</td>\n",
       "    </tr>\n",
       "    <tr>\n",
       "      <th>3월</th>\n",
       "      <td></td>\n",
       "      <td>168</td>\n",
       "      <td>148</td>\n",
       "      <td>87</td>\n",
       "      <td>0</td>\n",
       "    </tr>\n",
       "    <tr>\n",
       "      <th>4월</th>\n",
       "      <td></td>\n",
       "      <td>158</td>\n",
       "      <td>202</td>\n",
       "      <td>121</td>\n",
       "      <td>2</td>\n",
       "    </tr>\n",
       "    <tr>\n",
       "      <th>5월</th>\n",
       "      <td></td>\n",
       "      <td>136</td>\n",
       "      <td>206</td>\n",
       "      <td>102</td>\n",
       "      <td>0</td>\n",
       "    </tr>\n",
       "    <tr>\n",
       "      <th>6월</th>\n",
       "      <td></td>\n",
       "      <td>134</td>\n",
       "      <td>209</td>\n",
       "      <td>133</td>\n",
       "      <td>0</td>\n",
       "    </tr>\n",
       "    <tr>\n",
       "      <th>7월</th>\n",
       "      <td></td>\n",
       "      <td>146</td>\n",
       "      <td>164</td>\n",
       "      <td>106</td>\n",
       "      <td>0</td>\n",
       "    </tr>\n",
       "    <tr>\n",
       "      <th>8월</th>\n",
       "      <td></td>\n",
       "      <td>129</td>\n",
       "      <td>186</td>\n",
       "      <td>94</td>\n",
       "      <td>0</td>\n",
       "    </tr>\n",
       "    <tr>\n",
       "      <th>9월</th>\n",
       "      <td></td>\n",
       "      <td>175</td>\n",
       "      <td>199</td>\n",
       "      <td>112</td>\n",
       "      <td>0</td>\n",
       "    </tr>\n",
       "    <tr>\n",
       "      <th>10월</th>\n",
       "      <td></td>\n",
       "      <td>212</td>\n",
       "      <td>218</td>\n",
       "      <td>103</td>\n",
       "      <td>0</td>\n",
       "    </tr>\n",
       "    <tr>\n",
       "      <th>11월</th>\n",
       "      <td></td>\n",
       "      <td>216</td>\n",
       "      <td>194</td>\n",
       "      <td>98</td>\n",
       "      <td>0</td>\n",
       "    </tr>\n",
       "    <tr>\n",
       "      <th>12월</th>\n",
       "      <td></td>\n",
       "      <td>174</td>\n",
       "      <td>144</td>\n",
       "      <td>105</td>\n",
       "      <td>0</td>\n",
       "    </tr>\n",
       "  </tbody>\n",
       "</table>\n",
       "</div>"
      ],
      "text/plain": [
       "    test  차대사람사망자수  차대차사망자수  차량단독사망자수  철길건널목사망자수\n",
       "1월             176      140       101          1\n",
       "2월             153      146        94          0\n",
       "3월             168      148        87          0\n",
       "4월             158      202       121          2\n",
       "5월             136      206       102          0\n",
       "6월             134      209       133          0\n",
       "7월             146      164       106          0\n",
       "8월             129      186        94          0\n",
       "9월             175      199       112          0\n",
       "10월            212      218       103          0\n",
       "11월            216      194        98          0\n",
       "12월            174      144       105          0"
      ]
     },
     "execution_count": 5,
     "metadata": {},
     "output_type": "execute_result"
    }
   ],
   "source": [
    "results"
   ]
  },
  {
   "cell_type": "code",
   "execution_count": 14,
   "metadata": {
    "scrolled": true
   },
   "outputs": [
    {
     "data": {
      "text/plain": [
       "[Text(0, 0, '1월'),\n",
       " Text(0, 0, '2월'),\n",
       " Text(0, 0, '3월'),\n",
       " Text(0, 0, '4월'),\n",
       " Text(0, 0, '5월'),\n",
       " Text(0, 0, '6월'),\n",
       " Text(0, 0, '7월'),\n",
       " Text(0, 0, '8월'),\n",
       " Text(0, 0, '9월'),\n",
       " Text(0, 0, '10월'),\n",
       " Text(0, 0, '11월'),\n",
       " Text(0, 0, '12월')]"
      ]
     },
     "execution_count": 14,
     "metadata": {},
     "output_type": "execute_result"
    },
    {
     "data": {
      "image/png": "[encoded data removed]",
      "text/plain": [
       "<Figure size 432x288 with 1 Axes>"
      ]
     },
     "metadata": {
      "needs_background": "light"
     },
     "output_type": "display_data"
    }
   ],
   "source": [
    "fig , ax= plt.subplots()\n",
    "index = np.arange(results[u'차대사람사망자수'].shape[0])\n",
    "ax.bar(index-0.15, results['차대사람사망자수'], width=0.3, label=u'차대사람')\n",
    "ax.bar(index+0.15, results['차대차사망자수'], width=0.3, label=u'차대차')\n",
    "ax.set_title(u'교통사고 유형별 월별 사망자수 비교')\n",
    "ax.set_xlabel(u'월')\n",
    "ax.set_ylabel(u'사망자수')\n",
    "ax.legend()\n",
    "ax.set_xticks(index)\n",
    "ax.set_xticklabels(results.index)"
   ]
  },
  {
   "cell_type": "code",
   "execution_count": null,
   "metadata": {},
   "outputs": [],
   "source": []
  },
  {
   "cell_type": "code",
   "execution_count": 15,
   "metadata": {},
   "outputs": [],
   "source": [
    "ax.figure.savefig('./fig.png', dpi=1000)"
   ]
  },
  {
   "cell_type": "code",
   "execution_count": 16,
   "metadata": {},
   "outputs": [],
   "source": [
    "index = np.arange(results[u'차대사람사망자수'].shape[0])"
   ]
  },
  {
   "cell_type": "code",
   "execution_count": 17,
   "metadata": {},
   "outputs": [
    {
     "name": "stdout",
     "output_type": "stream",
     "text": [
      "[ 0  1  2  3  4  5  6  7  8  9 10 11]\n"
     ]
    }
   ],
   "source": [
    "print(index)"
   ]
  },
  {
   "cell_type": "code",
   "execution_count": null,
   "metadata": {},
   "outputs": [],
   "source": []
  }
 ],
 "metadata": {
  "kernelspec": {
   "display_name": "Python 3",
   "language": "python",
   "name": "python3"
  },
  "language_info": {
   "codemirror_mode": {
    "name": "ipython",
    "version": 3
   },
   "file_extension": ".py",
   "mimetype": "text/x-python",
   "name": "python",
   "nbconvert_exporter": "python",
   "pygments_lexer": "ipython3",
   "version": "3.8.3"
  }
 },
 "nbformat": 4,
 "nbformat_minor": 4
}
