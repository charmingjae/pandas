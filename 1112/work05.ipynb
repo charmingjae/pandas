{
 "cells": [
  {
   "cell_type": "code",
   "execution_count": null,
   "metadata": {},
   "outputs": [],
   "source": [
    "#_*_coding:utf-8 _*_\n",
    "\n",
    "import tweepy, io\n",
    "\n",
    "consumer_key = \"키\"\n",
    "consumer_secret = \"시크릿\"\n",
    "\n",
    "auth = tweepy.OAuthHandler(consumer_key, consumer_secret)  #oAuth 인증 객체 생성\n",
    "\n",
    "access_token = \"액세스 토큰\"\n",
    "access_toen_secret = \"시크릿 토큰\"\n",
    "\n",
    "auth.set_access_token(access_token, access_toen_secret)\n",
    "api = tweepy.API(auth, wait_on_rate_limit=True)  #tweepy 객체 생성\n",
    "\n",
    "keyword=\"손흥민\"\n",
    "search = []\n",
    "\n",
    "f = io.open('./temp/tweet_bigdata.txt','w',encoding='utf-8')\n",
    "cnt=1 \n",
    "while (cnt<=100):\n",
    "    tweets = api.search(keyword)  #트위터 키워드 검색\n",
    "    for tweet in tweets:\n",
    "        f.write(tweet.text +'\\n')   #트위터 내용 가져와서 파일에 쓰기\n",
    "        search.append(tweet.text)\n",
    "    cnt+=1\n",
    "print(len(search))  \n",
    "f.close()"
   ]
  },
  {
   "cell_type": "code",
   "execution_count": null,
   "metadata": {},
   "outputs": [],
   "source": []
  }
 ],
 "metadata": {
  "kernelspec": {
   "display_name": "Python 3",
   "language": "python",
   "name": "python3"
  },
  "language_info": {
   "codemirror_mode": {
    "name": "ipython",
    "version": 3
   },
   "file_extension": ".py",
   "mimetype": "text/x-python",
   "name": "python",
   "nbconvert_exporter": "python",
   "pygments_lexer": "ipython3",
   "version": "3.8.3"
  }
 },
 "nbformat": 4,
 "nbformat_minor": 4
}
