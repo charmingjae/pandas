{
 "cells": [
  {
   "cell_type": "markdown",
   "metadata": {},
   "source": [
    "# Bar Chart"
   ]
  },
  {
   "cell_type": "code",
   "execution_count": 3,
   "metadata": {},
   "outputs": [],
   "source": [
    "import numpy as np\n",
    "import matplotlib.pyplot as plt\n",
    "import matplotlib\n",
    "from matplotlib import font_manager"
   ]
  },
  {
   "cell_type": "code",
   "execution_count": 5,
   "metadata": {},
   "outputs": [],
   "source": [
    "# Fonts\n",
    "font_location = '/Library/Fonts/Arial unicode.ttf'\n",
    "font_name = font_manager.FontProperties(fname=font_location).get_name()\n",
    "matplotlib.rc('font', family=font_name)\n",
    "matplotlib.rcParams['axes.unicode_minus']=False"
   ]
  },
  {
   "cell_type": "code",
   "execution_count": 6,
   "metadata": {},
   "outputs": [],
   "source": [
    "# Data\n",
    "member_IDs = ['m_01', 'm_02', 'm_03', 'm_04'] # 회원 ID \n",
    "before_ex = [27, 35, 40, 33]   # 운동 시작 전 \n",
    "after_ex = [30, 38, 42, 37]    # 운동 한 달 후 "
   ]
  },
  {
   "cell_type": "code",
   "execution_count": 8,
   "metadata": {},
   "outputs": [],
   "source": [
    "n_data = len(member_IDs)     # 회원이 네 명이므로 전체 데이터 수는 4 \n",
    "index = np.arange(n_data)    # NumPy를 이용해 배열 생성 (0, 1, 2, 3)\n",
    "colors=['r', 'g', 'b', 'm']"
   ]
  },
  {
   "cell_type": "code",
   "execution_count": 9,
   "metadata": {},
   "outputs": [
    {
     "data": {
      "image/png": "[encoded data removed]",
      "text/plain": [
       "<Figure size 432x288 with 4 Axes>"
      ]
     },
     "metadata": {
      "needs_background": "light"
     },
     "output_type": "display_data"
    }
   ],
   "source": [
    "plt.subplot(2,2,1)\n",
    "# x = index, height = before_ex\n",
    "plt.bar(index, before_ex)\n",
    "plt.subplot(2,2,2)\n",
    "plt.bar(index, before_ex, tick_label = member_IDs)\n",
    "plt.subplot(2,2,3)\n",
    "plt.bar(index,before_ex, color = colors,tick_label = member_IDs)\n",
    "plt.subplot(2,2,4)\n",
    "plt.barh(index,before_ex, color=colors, tick_label = member_IDs)\n",
    "plt.show()"
   ]
  },
  {
   "cell_type": "code",
   "execution_count": null,
   "metadata": {},
   "outputs": [],
   "source": []
  }
 ],
 "metadata": {
  "kernelspec": {
   "display_name": "Python 3",
   "language": "python",
   "name": "python3"
  },
  "language_info": {
   "codemirror_mode": {
    "name": "ipython",
    "version": 3
   },
   "file_extension": ".py",
   "mimetype": "text/x-python",
   "name": "python",
   "nbconvert_exporter": "python",
   "pygments_lexer": "ipython3",
   "version": "3.8.3"
  }
 },
 "nbformat": 4,
 "nbformat_minor": 4
}
