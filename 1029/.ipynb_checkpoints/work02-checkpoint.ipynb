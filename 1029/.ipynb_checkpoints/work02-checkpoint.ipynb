{
 "cells": [
  {
   "cell_type": "code",
   "execution_count": 4,
   "metadata": {},
   "outputs": [
    {
     "ename": "SyntaxError",
     "evalue": "invalid character in identifier (<ipython-input-4-17dec5cf62ea>, line 12)",
     "output_type": "error",
     "traceback": [
      "\u001b[0;36m  File \u001b[0;32m\"<ipython-input-4-17dec5cf62ea>\"\u001b[0;36m, line \u001b[0;32m12\u001b[0m\n\u001b[0;31m    matplotlib.rcParams['axes.unicode_minus'] = False\u001b[0m\n\u001b[0m                                                     ^\u001b[0m\n\u001b[0;31mSyntaxError\u001b[0m\u001b[0;31m:\u001b[0m invalid character in identifier\n"
     ]
    }
   ],
   "source": [
    "#_*_coding:utf-8 _*_\n",
    "\n",
    "import seaborn as sns\n",
    "import matplotlib.pyplot as plt\n",
    "import matplotlib\n",
    "from matplotlib import font_manager\n",
    "import pandas as pd\n",
    "\n",
    "font_location = '/Library/Fonts/Airal unicode.ttf'\n",
    "font_name = font_manager.FontProperties(fname=font_location).get_name()\n",
    "matplotlib.rc('font', family=font_name)\n",
    "matplotlib.rcParams['axes.unicode_minus'] = False \n",
    "\n",
    "path = './temp/'\n",
    "drink_df = pd.read_csv(path+\"drinks.csv\")\n",
    "cols = ['beer_servings','spirit_servings','wine_servings','total_litres_of_pure_alcohol']\n",
    "corr = drink_df[cols].corr(method='pearson')\n",
    "cols_view = ['beer','spirit','wine','total']\n",
    "sns.set(font_scale=1.5)\n",
    "hm = sns.heatmap(corr.values, cbar=True, annot=True, square=True, fmt='.2f',annot_kws={'size':15},yticklabels=cols_view, xticklabels=cols_view)\n",
    "plt.tight_layout()\n",
    "\n",
    "sns.set(style='whitegrid',context='notebook')\n",
    "sns.pairplot(drink_df[['beer_servings','spirit_servings','wine_servings','total_litres_of_pure_alcohol']],height=2.5)\n",
    "plt.show()\n"
   ]
  },
  {
   "cell_type": "code",
   "execution_count": null,
   "metadata": {},
   "outputs": [],
   "source": []
  }
 ],
 "metadata": {
  "kernelspec": {
   "display_name": "Python 3",
   "language": "python",
   "name": "python3"
  },
  "language_info": {
   "codemirror_mode": {
    "name": "ipython",
    "version": 3
   },
   "file_extension": ".py",
   "mimetype": "text/x-python",
   "name": "python",
   "nbconvert_exporter": "python",
   "pygments_lexer": "ipython3",
   "version": "3.8.3"
  }
 },
 "nbformat": 4,
 "nbformat_minor": 4
}
