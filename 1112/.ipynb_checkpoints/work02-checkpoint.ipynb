{
 "cells": [
  {
   "cell_type": "code",
   "execution_count": 1,
   "metadata": {},
   "outputs": [],
   "source": [
    "import requests\n",
    "from bs4 import BeautifulSoup"
   ]
  },
  {
   "cell_type": "code",
   "execution_count": 2,
   "metadata": {},
   "outputs": [
    {
     "name": "stdout",
     "output_type": "stream",
     "text": [
      "1 Dynamite - 방탄소년단\n",
      "2 When We Disco (Duet with 선미) - 박진영\n",
      "3 취기를 빌려 (취향저격 그녀 X 산들) - 산들\n",
      "4 마리아 (Maria) - 화사(Hwa Sa)\n",
      "5 Blueming - 아이유(IU)\n",
      "6 에잇(Prod.&Feat. SUGA of BTS) - 아이유(IU)\n",
      "7 어떻게 이별까지 사랑하겠어, 널 사랑하는 거지 - AKMU (악동뮤지션)\n",
      "8 눈누난나 (NUNU NANA) - 제시(Jessi)\n",
      "9 METEOR - 창모(CHANGMO)\n",
      "10 Ice Cream (with Selena Gomez) - BLACKPINK\n",
      "11 Psycho - Red Velvet (레드벨벳)\n",
      "12 Criminal - 태민(TAEMIN)\n",
      "13 Dolphin - 오마이걸(OH MY GIRL)\n",
      "14 How You Like That - BLACKPINK\n",
      "15 다시 여기 바닷가 - 싹쓰리(유두래곤, 린다G, 비룡)\n",
      "16 Not Shy - ITZY(있지)\n",
      "17 Love poem - 아이유(IU)\n",
      "18 흔들리는 꽃들 속에서 네 샴푸향이 느껴진거야 - 장범준\n",
      "19 덤디덤디 (DUMDi DUMDi) - (여자) 아이들\n",
      "20 늦은 밤 너의 집 앞 골목길에서 - 노을\n",
      "21 살짝 설렜어 (Nonstop) - 오마이걸(OH MY GIRL)\n",
      "22 일식 (Black Rose) (Feat. Kid Milli) - 태민(TAEMIN)\n",
      "23 Square (2017) - 백예린\n",
      "24 보라빛 밤 (pporappippam) - 선미\n",
      "25 HIP - 마마무(Mamamoo)\n",
      "26 아로하 - 조정석\n",
      "27 2 KIDS - 태민(TAEMIN)\n",
      "28 숲의 아이 (Bon voyage) - 유아(오마이걸)\n",
      "29 Downtown Baby - 블루(BLOO)\n",
      "30 내 마음이 움찔했던 순간 (취향저격 그녀 X 규현) - 규현(KYUHYUN)\n",
      "31 홀로 - 이하이\n",
      "32 Clockwork - 태민(TAEMIN)\n",
      "33 Lovesick Girls - BLACKPINK\n",
      "34 Strangers - 태민(TAEMIN)\n",
      "35 네모 (Nemo) - 태민(TAEMIN)\n",
      "36 해몽 (Waiting For) - 태민(TAEMIN)\n",
      "37 Famous (Korean Ver.) - 태민(TAEMIN)\n",
      "38 Just Me And You - 태민(TAEMIN)\n",
      "39 너를 만나 - 폴킴\n",
      "40 밤편지 - 아이유(IU)\n",
      "41 사랑하게 될 줄 알았어 - 전미도\n",
      "42 아무노래 - 지코 (ZICO)\n",
      "43 작은 것들을 위한 시 (Boy With Luv) (Feat. Halsey) - 방탄소년단\n",
      "44 그 여름을 틀어줘 - 싹쓰리(유두래곤, 린다G, 비룡)\n",
      "45 MOVE - 태민(TAEMIN)\n",
      "46 WANT - 태민(TAEMIN)\n",
      "47 오늘도 빛나는 너에게 (To You My Light) (Feat. 이라온) - 마크툽(Maktub)\n",
      "48 Summer Hate (Feat. 비) - 지코 (ZICO)\n",
      "49 PLAY (Feat. 창모) - 청하\n",
      "50 사랑이란 멜로는 없어 - 전상근\n"
     ]
    }
   ],
   "source": [
    "#_*_coding:utf-8 _*_\n",
    "\n",
    "import requests\n",
    "from bs4 import BeautifulSoup\n",
    "\n",
    "url =\"https://music.naver.com/listen/history/index.nhn?type=DOMESTIC&year=2020&month=10&week=1\"\n",
    "html_music = requests.get(url).text\n",
    "soup_music = BeautifulSoup(html_music,\"lxml\")\n",
    "\n",
    "titles = soup_music.select('a._title span.ellipsis')\n",
    "singers = soup_music.select('td._artist a')\n",
    "\n",
    "song_titles = list()\n",
    "singerList = list()\n",
    "\n",
    "for title in titles:\n",
    "    song_titles.append(title.get_text())\n",
    "for singer in singers:\n",
    "    singerList.append(singer.get_text().strip())\n",
    "for index in range(len(song_titles)):\n",
    "    print(\"{0} {1} - {2}\".format(index+1, song_titles[index], singerList[index]))\n"
   ]
  },
  {
   "cell_type": "code",
   "execution_count": null,
   "metadata": {},
   "outputs": [],
   "source": []
  }
 ],
 "metadata": {
  "kernelspec": {
   "display_name": "Python 3",
   "language": "python",
   "name": "python3"
  },
  "language_info": {
   "codemirror_mode": {
    "name": "ipython",
    "version": 3
   },
   "file_extension": ".py",
   "mimetype": "text/x-python",
   "name": "python",
   "nbconvert_exporter": "python",
   "pygments_lexer": "ipython3",
   "version": "3.8.3"
  }
 },
 "nbformat": 4,
 "nbformat_minor": 4
}
