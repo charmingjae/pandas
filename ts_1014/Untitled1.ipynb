{
 "cells": [
  {
   "cell_type": "code",
   "execution_count": 12,
   "metadata": {},
   "outputs": [],
   "source": [
    "import pandas as pd\n",
    "import numpy as np\n",
    "import glob, re"
   ]
  },
  {
   "cell_type": "code",
   "execution_count": 17,
   "metadata": {},
   "outputs": [
    {
     "name": "stdout",
     "output_type": "stream",
     "text": [
      "['./temp/담당자별_판매량_Andy사원.xlsx', './temp/담당자별_판매량_Becky사원.xlsx', './temp/담당자별_판매량_Chris사원.xlsx']\n"
     ]
    }
   ],
   "source": [
    "glb = glob.glob('./temp/담당자별_판매량_*.xlsx')\n",
    "print(excel_data_files1)"
   ]
  },
  {
   "cell_type": "code",
   "execution_count": 19,
   "metadata": {},
   "outputs": [],
   "source": [
    "for f in glb:\n",
    "    df = pd.read_excel(f)\n",
    "    if(df.loc[1,'담당자'] == 'A'):\n",
    "        df['담당자']='Andy'\n",
    "    elif(df.loc[1,'담당자']=='B'):\n",
    "        df['담당자']='Becky'\n",
    "    elif(df.loc[1,'담당자']=='C'):\n",
    "        df['담당자']='Chris'\n",
    "        \n",
    "    new_f = re.sub('.xlsx', '2.xlsx', f)\n",
    "    excel_writer = pd.ExcelWriter(new_f, engine='xlsxwriter')\n",
    "    df.to_excel(excel_writer, index=False)\n",
    "    excel_writer.save()"
   ]
  },
  {
   "cell_type": "code",
   "execution_count": null,
   "metadata": {},
   "outputs": [],
   "source": []
  }
 ],
 "metadata": {
  "kernelspec": {
   "display_name": "Python 3",
   "language": "python",
   "name": "python3"
  },
  "language_info": {
   "codemirror_mode": {
    "name": "ipython",
    "version": 3
   },
   "file_extension": ".py",
   "mimetype": "text/x-python",
   "name": "python",
   "nbconvert_exporter": "python",
   "pygments_lexer": "ipython3",
   "version": "3.8.3"
  }
 },
 "nbformat": 4,
 "nbformat_minor": 4
}
