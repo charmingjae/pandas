{
 "cells": [
  {
   "cell_type": "code",
   "execution_count": 13,
   "metadata": {},
   "outputs": [],
   "source": [
    "#_*_coding:utf-8 _*_\n",
    "import os\n",
    "import requests\n",
    "from bs4 import BeautifulSoup\n",
    "from urllib.request import urlopen\n",
    "import ssl\n",
    "\n",
    "context = ssl._create_unverified_context()\n",
    "\n",
    "def getImageURL(url):\n",
    "    htmlpiaxbay_image = requests.get(url).text\n",
    "    soup_images = BeautifulSoup(htmlpiaxbay_image, \"lxml\")\n",
    "    img = soup_images.find_all(class_='_img')\n",
    "    imageUrls = list()\n",
    "    for i in img:\n",
    "        imgUrl = i['data-source']\n",
    "        imageUrls.append(imgUrl)\n",
    "    return imageUrls\n"
   ]
  },
  {
   "cell_type": "code",
   "execution_count": 14,
   "metadata": {},
   "outputs": [
    {
     "name": "stdout",
     "output_type": "stream",
     "text": [
      "donwload Completed!\n"
     ]
    }
   ],
   "source": [
    "URL = 'https://search.naver.com/search.naver?where=image&sm=tab_jum&query=lion'\n",
    "downPath = './temp/cat'\n",
    "naver_imagelist = getImageURL(URL)\n",
    "imgcount=10\n",
    "\n",
    "for k in range(imgcount):\n",
    "    with urlopen(naver_imagelist[k],context=context) as f:\n",
    "        with open(downPath+\"/\" + str(k)+'.jpg', 'wb')as h: # w - write b -binary\n",
    "            img = f.read()\n",
    "            h.write(img)\n",
    "print(\"donwload Completed!\")\n"
   ]
  },
  {
   "cell_type": "code",
   "execution_count": null,
   "metadata": {},
   "outputs": [],
   "source": []
  }
 ],
 "metadata": {
  "kernelspec": {
   "display_name": "Python 3",
   "language": "python",
   "name": "python3"
  },
  "language_info": {
   "codemirror_mode": {
    "name": "ipython",
    "version": 3
   },
   "file_extension": ".py",
   "mimetype": "text/x-python",
   "name": "python",
   "nbconvert_exporter": "python",
   "pygments_lexer": "ipython3",
   "version": "3.8.3"
  }
 },
 "nbformat": 4,
 "nbformat_minor": 4
}
