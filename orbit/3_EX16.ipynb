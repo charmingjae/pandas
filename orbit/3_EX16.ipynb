{
 "cells": [
  {
   "cell_type": "markdown",
   "metadata": {},
   "source": [
    "# Pandas Example 12"
   ]
  },
  {
   "cell_type": "code",
   "execution_count": 90,
   "metadata": {},
   "outputs": [],
   "source": [
    "# _*_coding:utf-8_*_\n",
    "import pandas as pd\n",
    "import glob, re"
   ]
  },
  {
   "cell_type": "code",
   "execution_count": 110,
   "metadata": {},
   "outputs": [],
   "source": [
    "excel_data_files1 = glob.glob(u'data/담당자별_판매량_*원.xlsx')"
   ]
  },
  {
   "cell_type": "code",
   "execution_count": 111,
   "metadata": {},
   "outputs": [
    {
     "name": "stdout",
     "output_type": "stream",
     "text": [
      "['data/담당자별_판매량_Andy사원.xlsx', 'data/담당자별_판매량_Becky사원.xlsx', 'data/담당자별_판매량_Chris사원.xlsx']\n"
     ]
    }
   ],
   "source": [
    "print(excel_data_files1)"
   ]
  },
  {
   "cell_type": "code",
   "execution_count": 93,
   "metadata": {},
   "outputs": [],
   "source": [
    "for f in excel_data_files1: \n",
    "    df = pd.read_excel(f)\n",
    "    if(df.loc[1, '담당자']=='A'): \n",
    "        df['담당자']='Andy' \n",
    "    elif(df.loc[1, '담당자']=='B'): \n",
    "        df['담당자']='Becky' \n",
    "    elif(df.loc[1, '담당자']=='C'): \n",
    "        df['담당자']='Chris'\n",
    "        \n",
    "    f_new = re.sub(\".xlsx\", \"2.xlsx\", f) \n",
    "    print(f_new)\n",
    "    new_excel_file = pd.ExcelWriter(f_new, engine='xlsxwriter') \n",
    "    df.to_excel(new_excel_file, index=False) \n",
    "    new_excel_file.save()\n"
   ]
  },
  {
   "cell_type": "code",
   "execution_count": null,
   "metadata": {},
   "outputs": [],
   "source": []
  }
 ],
 "metadata": {
  "kernelspec": {
   "display_name": "Python 3",
   "language": "python",
   "name": "python3"
  },
  "language_info": {
   "codemirror_mode": {
    "name": "ipython",
    "version": 3
   },
   "file_extension": ".py",
   "mimetype": "text/x-python",
   "name": "python",
   "nbconvert_exporter": "python",
   "pygments_lexer": "ipython3",
   "version": "3.8.3"
  }
 },
 "nbformat": 4,
 "nbformat_minor": 4
}
