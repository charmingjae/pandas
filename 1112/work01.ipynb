{
 "cells": [
  {
   "cell_type": "code",
   "execution_count": 1,
   "metadata": {},
   "outputs": [],
   "source": [
    "from bs4 import BeautifulSoup"
   ]
  },
  {
   "cell_type": "code",
   "execution_count": 3,
   "metadata": {},
   "outputs": [],
   "source": [
    "f = open('./temp/myNovelList.html', encoding='utf-8')\n",
    "html = f.read()\n",
    "f.close()\n",
    "soup = BeautifulSoup(html, \"lxml\")\n",
    "\n",
    "titles = soup.find_all('p',{\"id\":\"title\"})\n",
    "authors = soup.find_all('p', {\"id\":\"author\"})"
   ]
  },
  {
   "cell_type": "code",
   "execution_count": 4,
   "metadata": {},
   "outputs": [
    {
     "name": "stdout",
     "output_type": "stream",
     "text": [
      "title: 토지, author: 박경리\n",
      "title: 태백산맥, author: 조정래\n",
      "title: 감옥으로부터의 사색, author: 신영복\n"
     ]
    }
   ],
   "source": [
    "for index in range(len(titles)):\n",
    "    print(\"title: {0}, author: {1}\".format(titles[index].get_text(), authors[index].get_text()))"
   ]
  },
  {
   "cell_type": "code",
   "execution_count": null,
   "metadata": {},
   "outputs": [],
   "source": []
  }
 ],
 "metadata": {
  "kernelspec": {
   "display_name": "Python 3",
   "language": "python",
   "name": "python3"
  },
  "language_info": {
   "codemirror_mode": {
    "name": "ipython",
    "version": 3
   },
   "file_extension": ".py",
   "mimetype": "text/x-python",
   "name": "python",
   "nbconvert_exporter": "python",
   "pygments_lexer": "ipython3",
   "version": "3.8.3"
  }
 },
 "nbformat": 4,
 "nbformat_minor": 4
}
