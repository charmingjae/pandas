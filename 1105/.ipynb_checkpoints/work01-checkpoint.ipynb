{
 "cells": [
  {
   "cell_type": "code",
   "execution_count": 1,
   "metadata": {},
   "outputs": [],
   "source": [
    "# import\n",
    "from xml.etree.ElementTree import *"
   ]
  },
  {
   "cell_type": "code",
   "execution_count": 2,
   "metadata": {},
   "outputs": [],
   "source": [
    "# Parse\n",
    "tree = parse('./temp/Resource10/book.xml')\n",
    "\n",
    "# root 태그 가져오기\n",
    "note = tree.getroot()\n",
    "booklist = list()"
   ]
  },
  {
   "cell_type": "code",
   "execution_count": 3,
   "metadata": {},
   "outputs": [
    {
     "name": "stderr",
     "output_type": "stream",
     "text": [
      "<ipython-input-3-a8b425eff20b>:2: DeprecationWarning: This method will be removed in future versions.  Use 'tree.iter()' or 'list(tree.iter())' instead.\n",
      "  for item in note.getiterator(\"book\"):\n"
     ]
    }
   ],
   "source": [
    "# getiterator -> 현재 엘리먼트의 하위 엘리먼트를 모두 가져옴\n",
    "for item in note.getiterator(\"book\"):\n",
    "    # 하위 엘리먼트 중 title이란 이름을 가진 엘리먼트의 텍스트를 가져온다\n",
    "    strTitle = item.find(\"title\").text\n",
    "    # publisher이란 이름을 가진 엘리먼트를 가져온다\n",
    "    strPub = item.find(\"publisher\")\n",
    "    # publisher가 없을 때 처리\n",
    "    if(strPub == None):\n",
    "        strPub = 'NONE'\n",
    "    else:\n",
    "        strPub = strPub.text\n",
    "    # 저자가 한 명이 아닐 수 있기 때문에 findall\n",
    "    strAuthor = item.findall(\"author\")\n",
    "    # 저자 이름 넣어줄 리스트 변수 생성\n",
    "    authorList = list()\n",
    "    # 찾아낸  저자가 없다면 'Unknown' 넣어준다\n",
    "    if(len(strAuthor)<1):\n",
    "        authorList.append(\"Unknown\")\n",
    "    for a in strAuthor : \n",
    "        authorList.append(a.attrib[\"name\"])\n",
    "    bookdict = { 'title' : strTitle, 'author' : authorList, 'publisher' : strPub, 'ISBN' : item.attrib[\"ISBN\"] }\n",
    "    booklist.append(bookdict)"
   ]
  },
  {
   "cell_type": "code",
   "execution_count": 5,
   "metadata": {},
   "outputs": [
    {
     "name": "stdout",
     "output_type": "stream",
     "text": [
      "Title :  The Very Hungry Caterpillar Pop-Up Book\n",
      "Authors :  ['Eric Carle', 'Keith Finch']\n",
      "Publisher :   Philomel Books\n",
      "ISBN :  0399250395\n",
      "\n",
      "Title :  The Shack\n",
      "Authors :  ['Unknown']\n",
      "Publisher :  NONE\n",
      "ISBN :  0964729237\n",
      "\n",
      "Title :  You Can Negotiate Anything\n",
      "Authors :  ['Herb Cohen']\n",
      "Publisher :  NONE\n",
      "ISBN :  0553281097\n",
      "\n"
     ]
    }
   ],
   "source": [
    "for books in booklist:\n",
    "    print(\"Title : \" , books[\"title\"])\n",
    "    print(\"Authors : \", books[\"author\"])\n",
    "    print(\"Publisher : \", books[\"publisher\"])\n",
    "    print(\"ISBN : \", books[\"ISBN\"])\n",
    "    print()"
   ]
  },
  {
   "cell_type": "code",
   "execution_count": null,
   "metadata": {},
   "outputs": [],
   "source": []
  }
 ],
 "metadata": {
  "kernelspec": {
   "display_name": "Python 3",
   "language": "python",
   "name": "python3"
  },
  "language_info": {
   "codemirror_mode": {
    "name": "ipython",
    "version": 3
   },
   "file_extension": ".py",
   "mimetype": "text/x-python",
   "name": "python",
   "nbconvert_exporter": "python",
   "pygments_lexer": "ipython3",
   "version": "3.8.3"
  }
 },
 "nbformat": 4,
 "nbformat_minor": 4
}
