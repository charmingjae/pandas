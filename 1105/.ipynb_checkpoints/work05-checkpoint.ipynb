{
 "cells": [
  {
   "cell_type": "markdown",
   "metadata": {},
   "source": [
    "# OPEN API with DATABASE"
   ]
  },
  {
   "cell_type": "code",
   "execution_count": 7,
   "metadata": {},
   "outputs": [],
   "source": [
    "import urllib.request as urls\n",
    "import pymysql\n",
    "from xml.etree.ElementTree import *"
   ]
  },
  {
   "cell_type": "code",
   "execution_count": 6,
   "metadata": {},
   "outputs": [],
   "source": [
    "try:\n",
    "    url = 'http://api.data.go.kr/openapi/tn_pubr_public_campg_api?serviceKey=서비스키&pageNo=1&numOfRows=100&type=xml'\n",
    "    request = urls.Request(url)\n",
    "    request.get_method = lambda : 'GET'\n",
    "    response_body = urls.urlopen(request).read()\n",
    "    response_body = response_body.decode('UTF-8')\n",
    "    xmlData = fromstring(response_body)\n",
    "    camplist = list()\n",
    "    for parent in xmlData.iter(\"item\"):\n",
    "        camp = list()\n",
    "        for item in parent:\n",
    "            camp.append(item.text)\n",
    "        camplist.append(camp)\n",
    "    \n",
    "    #MySql Connection\n",
    "    conn = pymysql.connect(host='localhost', user='root',password='패스워드' ,db='bigdata', charset='utf8')\n",
    "    curs = conn.cursor()\n",
    "    for i in range(len(camplist)):\n",
    "        # sql 문장\n",
    "        sql = 'INSERT INTO camp(c_name, c_lat, c_lng, c_addr, c_siteCount, c_dayPerson, c_cvn) values(\\'{0}\\', {1}, {2}, \\'{3}\\', {4}, {5}, \\'{6}\\')'.format(camplist[i][0], float(camplist[i][2]), float(camplist[i][3]), camplist[i][4], int(camplist[i][7]), int(camplist[i][10]), camplist[i][12])\n",
    "        curs.execute(sql)\n",
    "    conn.commit()\n",
    "    conn.close()\n",
    "except Exception as er:\n",
    "    print(er)"
   ]
  }
 ],
 "metadata": {
  "kernelspec": {
   "display_name": "Python 3",
   "language": "python",
   "name": "python3"
  },
  "language_info": {
   "codemirror_mode": {
    "name": "ipython",
    "version": 3
   },
   "file_extension": ".py",
   "mimetype": "text/x-python",
   "name": "python",
   "nbconvert_exporter": "python",
   "pygments_lexer": "ipython3",
   "version": "3.8.3"
  }
 },
 "nbformat": 4,
 "nbformat_minor": 4
}
